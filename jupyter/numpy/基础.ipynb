{
 "cells": [
  {
   "cell_type": "code",
   "execution_count": 2,
   "metadata": {},
   "outputs": [
    {
     "data": {
      "text/plain": [
       "array([[1., 0., 0., 0.],\n",
       "       [0., 1., 0., 0.],\n",
       "       [0., 0., 1., 0.],\n",
       "       [0., 0., 0., 1.]])"
      ]
     },
     "execution_count": 2,
     "metadata": {},
     "output_type": "execute_result"
    }
   ],
   "source": [
    "import numpy as np\n",
    "# 生成对角矩阵\n",
    "np.eye(4)"
   ]
  },
  {
   "cell_type": "markdown",
   "metadata": {},
   "source": [
    "NumPy 最重要的一个特点是其N维数组对象ndarray，它是一系列同类型数据的集合，以0下标为开始进行集合中元素的索引。\n",
    "\n",
    "ndarray 对象是用于存放同类型元素的多维数组。\n",
    "ndarray 中的每个元素在内存中都有相同存储大小的区域。\n",
    "\n",
    "ndarray 内部由以下内容组成：\n",
    "\n",
    "* 一个指向数据（内存或内存映射文件中的一块数据）的指针。\n",
    "\n",
    "* 数据类型或dtype，描述在数组中的固定大小值的格子。\n",
    "\n",
    "* 一个表示数组形状（shape）的元组，表示各维度大小的元组。\n",
    "\n",
    "* 一个跨度元组（stride），其中的整数指的是为了前进到当前维度下一个元素需要\"跨过\"的字节数。\n",
    "\n",
    "ndarray的内部数据结构：\n",
    "![](http://www.runoob.com/wp-content/uploads/2018/10/ndarray.png)\n",
    "\n",
    "跨度可以是负数，这样会使数组在内存中后移动，切片中obj[::-1]或obj[:,::-1]就是如此\n",
    "\n",
    "创建一个 ndarray 只需调用 NumPy 的 array 函数即可：\n",
    "```\n",
    "numpy.array(object, dtype = None, copy = True, order = None, subok = False, ndmin = 0)\n",
    "```\n",
    "参数说明：\n",
    "- object 数组或者嵌套的数列\n",
    "- dtype  数组元素的数据类型，可选\n",
    "- copy   对象是否需要复制，可选\n",
    "- order  创建数组的样式，C为行方向，F为列方向，A为任意方向，（默认）\n",
    "- subok  默认返回一个与基类类型一致的数组\n",
    "- ndmin  指定申城数组的最小维度   "
   ]
  },
  {
   "cell_type": "code",
   "execution_count": 3,
   "metadata": {},
   "outputs": [
    {
     "name": "stdout",
     "output_type": "stream",
     "text": [
      "[1 2 3 4]\n"
     ]
    }
   ],
   "source": [
    "a = np.array([1,2,3,4])\n",
    "print(a)"
   ]
  },
  {
   "cell_type": "code",
   "execution_count": 4,
   "metadata": {},
   "outputs": [
    {
     "name": "stdout",
     "output_type": "stream",
     "text": [
      "[[1 2]\n",
      " [3 4]]\n"
     ]
    }
   ],
   "source": [
    "## 多一个维度\n",
    "a = np.array([[1,2],[3,4]])\n",
    "print(a)"
   ]
  },
  {
   "cell_type": "code",
   "execution_count": 5,
   "metadata": {},
   "outputs": [
    {
     "name": "stdout",
     "output_type": "stream",
     "text": [
      "[[1 2 3 4 5]]\n"
     ]
    }
   ],
   "source": [
    "# 最小维度\n",
    "a  = np.array([1,2,3,4,5],ndmin=2)\n",
    "print(a)"
   ]
  },
  {
   "cell_type": "code",
   "execution_count": 10,
   "metadata": {},
   "outputs": [
    {
     "name": "stdout",
     "output_type": "stream",
     "text": [
      "[1 2 3 4]\n",
      "12\n"
     ]
    }
   ],
   "source": [
    "# DTYPE 参数\n",
    "a = np.array([1,2,3,4],dtype=int)\n",
    "print(a)\n",
    "print(12)"
   ]
  },
  {
   "cell_type": "markdown",
   "metadata": {},
   "source": [
    "## Numpy数组属性"
   ]
  },
  {
   "cell_type": "code",
   "execution_count": 13,
   "metadata": {},
   "outputs": [
    {
     "name": "stdout",
     "output_type": "stream",
     "text": [
      "1\n",
      "[ 0  1  2  3  4  5  6  7  8  9 10 11 12 13 14 15 16 17 18 19 20 21 22 23]\n",
      "3\n",
      "[[[ 0  1  2]\n",
      "  [ 3  4  5]\n",
      "  [ 6  7  8]\n",
      "  [ 9 10 11]]\n",
      "\n",
      " [[12 13 14]\n",
      "  [15 16 17]\n",
      "  [18 19 20]\n",
      "  [21 22 23]]]\n"
     ]
    }
   ],
   "source": [
    "# ndarray.ndim 秩，即轴的数量或维度的数量\n",
    "\n",
    "a = np.arange(24)\n",
    "print(a.ndim) # a现在|只有一个维度\n",
    "print(a)\n",
    "# 调整维度\n",
    "b =a.reshape(2,4,3)\n",
    "print(b.ndim)\n",
    "print(b)"
   ]
  },
  {
   "cell_type": "code",
   "execution_count": 17,
   "metadata": {},
   "outputs": [
    {
     "name": "stdout",
     "output_type": "stream",
     "text": [
      "(2, 3)\n",
      "[[1 2]\n",
      " [3 4]\n",
      " [5 6]]\n"
     ]
    }
   ],
   "source": [
    "# ndarray.shape\n",
    "# 表示数组的维度，返回一个元祖，这个元祖的长度就是维度的数据，即ndim属性。比如，一个二维数组，\n",
    "# 其维度表示行数和列数\n",
    "a = np.array([[1,2,3],[4,5,6]])\n",
    "print(a.shape)\n",
    "\n",
    "# 使用shape调整数组大小\n",
    "a.shape = (3,2)\n",
    "print(a)"
   ]
  },
  {
   "cell_type": "code",
   "execution_count": 20,
   "metadata": {},
   "outputs": [
    {
     "name": "stdout",
     "output_type": "stream",
     "text": [
      "1\n",
      "8\n"
     ]
    }
   ],
   "source": [
    "# ndarray.itemsize 以字节的形式返回数组中每一个元素的大小\n",
    "\n",
    "x = np.array([1,2,3,4,5],dtype=np.int8)\n",
    "print(x.itemsize)\n",
    "\n",
    "y = np.array([1,2,3,4,5],dtype=np.float64)\n",
    "print(y.itemsize)"
   ]
  },
  {
   "cell_type": "markdown",
   "metadata": {},
   "source": [
    "## 创建数组"
   ]
  },
  {
   "cell_type": "code",
   "execution_count": 29,
   "metadata": {},
   "outputs": [
    {
     "name": "stdout",
     "output_type": "stream",
     "text": [
      "[[31660752        0]\n",
      " [       0        0]\n",
      " [       0        0]]\n",
      "[0. 0. 0. 0. 0.]\n",
      "[1. 1. 1. 1. 1.]\n",
      "[1 2 3]\n",
      "[1 2 3]\n",
      "[0 1 2 3 4]\n",
      "[0. 1. 2. 3. 4.]\n",
      "[10 12 14 16 18]\n"
     ]
    }
   ],
   "source": [
    "# 1. numpu.empty()\n",
    "# 创建一个制定形状shape，数据类型切未初始化的数组\n",
    "#  numpy.empty(shape, dtype = float, order = 'C')\n",
    "\n",
    "c = np.empty([3,2],dtype=int)\n",
    "print(c)\n",
    "\n",
    "# np.zeros\n",
    "# 创建制定大小的数组，数组元素以0来填充\n",
    "x= np.zeros(5)\n",
    "print(x)\n",
    "\n",
    "\n",
    "# numpy.ones\n",
    "# 创建指定形状的数组，数组元素以 1 来填充：\n",
    "\n",
    "x= np.ones(5)\n",
    "print(x)\n",
    "\n",
    "## 从已有的数组中穿件数组\n",
    "x = [1,2,3]\n",
    "a = np.asarray(x)\n",
    "print(a)\n",
    "\n",
    "x = (1,2,3)\n",
    "a  = np.asarray(x)\n",
    "print(a)\n",
    "\n",
    "# 从数值范围创建数组\n",
    "# numpy.arange(start, stop, step, dtype)\n",
    "x = np.arange(5)\n",
    "print(x)\n",
    "\n",
    "x = np.arange(5,dtype=float)\n",
    "print(x)\n",
    "\n",
    "x = np.arange(10,20,2)\n",
    "print(x)\n"
   ]
  },
  {
   "cell_type": "markdown",
   "metadata": {},
   "source": [
    "## 切片"
   ]
  },
  {
   "cell_type": "code",
   "execution_count": 40,
   "metadata": {},
   "outputs": [
    {
     "name": "stdout",
     "output_type": "stream",
     "text": [
      "[[1 2 3]\n",
      " [3 4 5]\n",
      " [4 5 6]]\n",
      "从数组索引 a[1:] 处开始切割\n",
      "[[3 4 5]\n",
      " [4 5 6]]\n",
      "[[1 2 3]\n",
      " [3 4 5]\n",
      " [4 5 6]]\n",
      "\n",
      "[2 4 5]\n",
      "[3 4 5]\n",
      "[[2 3]\n",
      " [4 5]\n",
      " [5 6]]\n",
      "[[3 4 5]\n",
      " [4 5 6]]\n"
     ]
    }
   ],
   "source": [
    "a = np.array([[1,2,3],[3,4,5],[4,5,6]])\n",
    "print(a)\n",
    "# 从某个索引处开始切割\n",
    "print('从数组索引 a[1:] 处开始切割')\n",
    "print(a[1:])\n",
    "\n",
    "# 切片还可以包括省略号 …，来使选择元组的长度与数组的维度相同。 如果在行位置使用省略号，它将返回包含行中元素的 ndarray。\n",
    "a = np.array([[1,2,3],[3,4,5],[4,5,6]])  \n",
    "print(a)\n",
    "print()\n",
    "print(a[...,1]) # 打印第二列元素\n",
    "print(a[1,...]) # 打印第二行元素\n",
    "print(a[...,1:]) # 打印第二列及以后元素\n",
    "print(a[1:,...]) # 打印第二行及以后元素"
   ]
  },
  {
   "cell_type": "code",
   "execution_count": null,
   "metadata": {},
   "outputs": [],
   "source": []
  }
 ],
 "metadata": {
  "kernelspec": {
   "display_name": "Python 3",
   "language": "python",
   "name": "python3"
  },
  "language_info": {
   "codemirror_mode": {
    "name": "ipython",
    "version": 3
   },
   "file_extension": ".py",
   "mimetype": "text/x-python",
   "name": "python",
   "nbconvert_exporter": "python",
   "pygments_lexer": "ipython3",
   "version": "3.6.5"
  }
 },
 "nbformat": 4,
 "nbformat_minor": 2
}
