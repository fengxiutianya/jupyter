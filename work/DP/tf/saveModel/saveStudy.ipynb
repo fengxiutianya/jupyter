{
 "cells": [
  {
   "cell_type": "code",
   "execution_count": 1,
   "metadata": {
    "ExecuteTime": {
     "end_time": "2019-06-03T13:06:49.667654Z",
     "start_time": "2019-06-03T13:06:46.738747Z"
    }
   },
   "outputs": [],
   "source": [
    "import tensorflow as tf\n",
    "\n",
    "def demo1():\n",
    "    v1 = tf.get_variable(\"v1\",shape=[3],initializer=tf.zeros_initializer)\n",
    "    v2 = tf.get_variable(\"v2\",shape=[5],initializer=tf.zeros_initializer)   \n",
    "    \n",
    "    inc_v1 = v1.assign(v1+1)\n",
    "    dec_v2 = v2.assign(v2-1)\n",
    "\n",
    "    # Add an op to initialize the variables.\n",
    "    init_op = tf.global_variables_initializer()\n",
    "\n",
    "    # Add ops to save and restore all the variables.\n",
    "    saver = tf.train.Saver()\n",
    "\n",
    "    # Later, launch the model, initialize the variables, do some work, and save the\n",
    "    # variables to disk.\n",
    "    with tf.Session() as sess:\n",
    "          sess.run(init_op)\n",
    "          # Do some work with the model.\n",
    "          inc_v1.op.run()\n",
    "          dec_v2.op.run()\n",
    "          # Save the variables to disk.\n",
    "          save_path = saver.save(sess, \"/tmp/model.ckpt\")\n",
    "          print(\"Model saved in path: %s\" % save_path)\n"
   ]
  },
  {
   "cell_type": "code",
   "execution_count": 5,
   "metadata": {
    "ExecuteTime": {
     "end_time": "2019-06-04T01:04:36.658548Z",
     "start_time": "2019-06-04T01:04:36.580104Z"
    }
   },
   "outputs": [
    {
     "name": "stdout",
     "output_type": "stream",
     "text": [
      "INFO:tensorflow:Restoring parameters from /tmp/model.ckpt\n",
      "model restored.\n",
      "v1:[1. 1. 1.]\n",
      "v2:[-1. -1. -1. -1. -1.]\n"
     ]
    }
   ],
   "source": [
    "def restore_model():\n",
    "    tf.reset_default_graph()\n",
    "    # create some variables\n",
    "    v1 = tf.get_variable(\"v1\",shape=[3])\n",
    "    v2 = tf.get_variable(\"v2\",shape=[5])\n",
    "    \n",
    "#     add ops to save and restore all the variables\n",
    "    saver = tf.train.Saver()\n",
    "#     later ,launch the model,use the saver to restore varibales from disk and\n",
    "#    do some work with the model\n",
    "    with tf.Session() as sess:\n",
    "#         restore variables from disk \n",
    "        saver.restore(sess,\"/tmp/model.ckpt\")\n",
    "        print(\"model restored.\")\n",
    "#         check the values of the variables\n",
    "        print(\"v1:%s\" % v1.eval())\n",
    "        print(\"v2:%s\" % v2.eval())\n",
    "# demo1()\n",
    "restore_model()"
   ]
  },
  {
   "cell_type": "code",
   "execution_count": 9,
   "metadata": {
    "ExecuteTime": {
     "end_time": "2019-06-04T01:13:30.951306Z",
     "start_time": "2019-06-04T01:13:30.883161Z"
    }
   },
   "outputs": [
    {
     "name": "stdout",
     "output_type": "stream",
     "text": [
      "INFO:tensorflow:Restoring parameters from /tmp/model.ckpt\n",
      "v1 : [0. 0. 0.]\n",
      "v2 : [-1. -1. -1. -1. -1.]\n"
     ]
    }
   ],
   "source": [
    "def restore_model_part():\n",
    "    tf.reset_default_graph()\n",
    "#     create somevariables\n",
    "    v1 = tf.get_variable(\"v1\",[3],initializer=tf.zeros_initializer)\n",
    "    v2 = tf.get_variable(\"v2\",[5],initializer=tf.zeros_initializer)\n",
    "#     add ops to save and restore only 'v2' using the name v2\n",
    "    saver = tf.train.Saver({\"v2\":v2})\n",
    "    with tf.Session() as sess:\n",
    "#         initialize v1 since the saver will not\n",
    "        v1.initializer.run()\n",
    "        saver.restore(sess,\"/tmp/model.ckpt\")\n",
    "        print(\"v1 : %s\" % v1.eval())\n",
    "        print(\"v2 : %s\" % v2.eval())\n",
    "save_model_part()"
   ]
  },
  {
   "cell_type": "code",
   "execution_count": 10,
   "metadata": {
    "ExecuteTime": {
     "end_time": "2019-06-04T01:21:57.995875Z",
     "start_time": "2019-06-04T01:21:57.978757Z"
    }
   },
   "outputs": [
    {
     "name": "stdout",
     "output_type": "stream",
     "text": [
      "tensor_name:  v1\n",
      "[1. 1. 1.]\n",
      "tensor_name:  v2\n",
      "[-1. -1. -1. -1. -1.]\n",
      "tensor_name:  v1\n",
      "[1. 1. 1.]\n"
     ]
    }
   ],
   "source": [
    "from tensorflow.python.tools import inspect_checkpoint as chkp\n",
    "def inspect_checkpoint_demo():\n",
    "    # print all tensor in checkpoint file\n",
    "    chkp.print_tensors_in_checkpoint_file(\"/tmp/model.ckpt\",tensor_name=\"\",all_tensors=True)\n",
    "     # tensor_name:  v1\n",
    "    # [ 1.  1.  1.]\n",
    "    # tensor_name:  v2\n",
    "    # [-1. -1. -1. -1. -1.]\n",
    "    \n",
    "    #print only tensor v1 in checkpoint file\n",
    "    chkp.print_tensors_in_checkpoint_file(\"/tmp/model.ckpt\",tensor_name=\"v1\",all_tensors=False)\n",
    "    \n",
    "    # tensor_name: v1 \n",
    "    # [1. 1. 1.]\n",
    "    \n",
    "inspect_checkpoint_demo()    "
   ]
  },
  {
   "cell_type": "code",
   "execution_count": null,
   "metadata": {},
   "outputs": [],
   "source": []
  }
 ],
 "metadata": {
  "kernelspec": {
   "display_name": "Python 3",
   "language": "python",
   "name": "python3"
  },
  "language_info": {
   "codemirror_mode": {
    "name": "ipython",
    "version": 3
   },
   "file_extension": ".py",
   "mimetype": "text/x-python",
   "name": "python",
   "nbconvert_exporter": "python",
   "pygments_lexer": "ipython3",
   "version": "3.7.3"
  },
  "toc": {
   "base_numbering": 1,
   "nav_menu": {},
   "number_sections": true,
   "sideBar": true,
   "skip_h1_title": false,
   "title_cell": "Table of Contents",
   "title_sidebar": "Contents",
   "toc_cell": false,
   "toc_position": {},
   "toc_section_display": true,
   "toc_window_display": false
  },
  "varInspector": {
   "cols": {
    "lenName": 16,
    "lenType": 16,
    "lenVar": 40
   },
   "kernels_config": {
    "python": {
     "delete_cmd_postfix": "",
     "delete_cmd_prefix": "del ",
     "library": "var_list.py",
     "varRefreshCmd": "print(var_dic_list())"
    },
    "r": {
     "delete_cmd_postfix": ") ",
     "delete_cmd_prefix": "rm(",
     "library": "var_list.r",
     "varRefreshCmd": "cat(var_dic_list()) "
    }
   },
   "types_to_exclude": [
    "module",
    "function",
    "builtin_function_or_method",
    "instance",
    "_Feature"
   ],
   "window_display": false
  }
 },
 "nbformat": 4,
 "nbformat_minor": 2
}
