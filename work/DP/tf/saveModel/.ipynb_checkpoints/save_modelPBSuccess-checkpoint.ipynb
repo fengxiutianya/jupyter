{
 "cells": [
  {
   "cell_type": "markdown",
   "metadata": {},
   "source": [
    "##  TensorFlow 保存模型为 PB 文件\n",
    "[保存模型](https://zhuanlan.zhihu.com/p/32887066)"
   ]
  },
  {
   "cell_type": "code",
   "execution_count": null,
   "metadata": {
    "ExecuteTime": {
     "end_time": "2019-06-04T01:54:39.839357Z",
     "start_time": "2019-06-04T01:54:39.786468Z"
    }
   },
   "outputs": [],
   "source": [
    "import tensorflow as tf\n",
    "import os\n",
    "from tensorflow.python.framework import graph_util\n",
    "\n",
    "pb_file_path= \"model/\"\n",
    "\n",
    "def save_model():\n",
    "    with tf.Session(graph=tf.Graph()) as sess:\n",
    "        x = tf.placeholder(tf.int32,shape=[1], name='x')\n",
    "        y = tf.placeholder(tf.int32,shape=[1], name='y')\n",
    "        b = tf.Variable(1, shape=[]name='b')\n",
    " \n",
    "        # 这里的输出需要加上name属性\n",
    "        op = tf.add(xy, b, name='op_to_store')\n",
    "\n",
    "        sess.run(tf.global_variables_initializer())\n",
    "\n",
    "        # convert_variables_to_constants 需要指定output_node_names，list()，可以多个\n",
    "#         constant_graph = graph_util.convert_variables_to_constants(sess, sess.graph_def, ['op_to_store'])\n",
    "\n",
    "        # 测试 OP\n",
    "#         feed_dict = {x: 10, y: 3}\n",
    "        feed_dict ={x:  [[0,1]]}\n",
    "        print(sess.run(op, feed_dict))\n",
    "        \n",
    "#         # 写入序列化的 PB 文件\n",
    "#         with tf.gfile.FastGFile(pb_file_path+'modelSuce.pb', mode='wb') as f:\n",
    "#                 f.write(constant_graph.SerializeToString())\n",
    "\n",
    "# save_model()"
   ]
  },
  {
   "cell_type": "code",
   "execution_count": null,
   "metadata": {
    "ExecuteTime": {
     "end_time": "2019-06-03T09:31:10.219404Z",
     "start_time": "2019-06-03T09:31:10.192351Z"
    }
   },
   "outputs": [],
   "source": [
    "from tensorflow.python.platform import gfile\n",
    "\n",
    "def load_model():\n",
    "        \n",
    "    sess = tf.Session()\n",
    "    with gfile.FastGFile(pb_file_path+'modelSuce.pb', 'rb') as f:\n",
    "        graph_def = tf.GraphDef()\n",
    "        graph_def.ParseFromString(f.read())\n",
    "        sess.graph.as_default()\n",
    "        tf.import_graph_def(graph_def, name='') # 导入计算图\n",
    "\n",
    "    # 需要有一个初始化的过程    \n",
    "    sess.run(tf.global_variables_initializer())\n",
    "\n",
    "    # 需要先复原变量\n",
    "    print(sess.run('b:0'))\n",
    "    # 1\n",
    "\n",
    "    # 输入\n",
    "    input_x = sess.graph.get_tensor_by_name('x:0')\n",
    "    input_y = sess.graph.get_tensor_by_name('y:0')\n",
    "\n",
    "    op = sess.graph.get_tensor_by_name('op_to_store:0')\n",
    "\n",
    "    ret = sess.run(op,  feed_dict={input_x: 5, input_y: 5})\n",
    "    print(ret)\n",
    "    # 输出 26\n",
    "# load_model()"
   ]
  },
  {
   "cell_type": "code",
   "execution_count": null,
   "metadata": {
    "ExecuteTime": {
     "end_time": "2019-06-04T01:55:00.909465Z",
     "start_time": "2019-06-04T01:55:00.838790Z"
    }
   },
   "outputs": [],
   "source": [
    "def saveModelPb():\n",
    "    with tf.Session(graph=tf.Graph()) as sess:\n",
    "        x = tf.placeholder(tf.int32,name='x')\n",
    "        y = tf.placeholder(tf.int32,name='y')\n",
    "        b = tf.Variable(1,name='b')\n",
    "       \n",
    "        xy = tf.multiply(x,y)\n",
    "        \n",
    "#         这里的输出需要加上name属性\n",
    "        op = tf.add(xy,b,name=\"op_to_store\")\n",
    "        sess.run(tf.global_variables_initializer())\n",
    "        \n",
    "        # convert_variables_to_constants 需要指定output_node_names，list()，可以多个\n",
    "#         constant_graph = graph_util.convert_variables_to_constants(sess, sess.graph_def, ['op_to_store'])  \n",
    "         \n",
    "        # 测试 OP\n",
    "        feed_dict = {x: 10, y: 3}\n",
    "        print(sess.run(op, feed_dict))\n",
    "\n",
    "        # 写入序列化的 PB 文件\n",
    "#         with tf.gfile.FastGFile(pb_file_path+'model.pb', mode='wb') as f:\n",
    "#             f.write(constant_graph.SerializeToString())\n",
    "\n",
    "        # INFO:tensorflow:Froze 1 variables.\n",
    "        # Converted 1 variables to const ops.\n",
    "        # 31\n",
    "\n",
    "\n",
    "        # 官网有误，写成了 saved_model_builder  \n",
    "        builder = tf.saved_model.builder.SavedModelBuilder(pb_file_path+'savemodel')\n",
    "        # 构造模型保存的内容，指定要保存的 session，特定的 tag, \n",
    "        # 输入输出信息字典，额外的信息\n",
    "        builder.add_meta_graph_and_variables(sess,\n",
    "                                           ['cpu_server_1'])\n",
    "        # 添加第二个 MetaGraphDef \n",
    "        #with tf.Session(graph=tf.Graph()) as sess:\n",
    "        #  ...\n",
    "        #  builder.add_meta_graph([tag_constants.SERVING])\n",
    "        #...\n",
    "\n",
    "        builder.save()  # 保存 PB 模型\n",
    "saveModelPb()"
   ]
  },
  {
   "cell_type": "code",
   "execution_count": null,
   "metadata": {
    "ExecuteTime": {
     "end_time": "2019-06-04T01:56:11.341236Z",
     "start_time": "2019-06-04T01:56:11.267969Z"
    }
   },
   "outputs": [],
   "source": [
    "def load_saveModepb():\n",
    "    with tf.Session(graph=tf.Graph()) as sess:\n",
    "        tf.saved_model.loader.load(sess, ['cpu_server_1'], pb_file_path+'savemodel')\n",
    "        sess.run(tf.global_variables_initializer())\n",
    "\n",
    "        input_x = sess.graph.get_tensor_by_name('x:0')\n",
    "        input_y = sess.graph.get_tensor_by_name('y:0')\n",
    "\n",
    "        op = sess.graph.get_tensor_by_name('op_to_store:0')\n",
    "\n",
    "        ret = sess.run(op,  feed_dict={input_x: 5, input_y: 5})\n",
    "        print(ret)\n",
    "    # 只需要指定要恢复模型的 session，模型的 tag，模型的保存路径即可,使用起来更加简单\n",
    "load_saveModepb()"
   ]
  }
 ],
 "metadata": {
  "kernelspec": {
   "display_name": "Python 3",
   "language": "python",
   "name": "python3"
  },
  "language_info": {
   "codemirror_mode": {
    "name": "ipython",
    "version": 3
   },
   "file_extension": ".py",
   "mimetype": "text/x-python",
   "name": "python",
   "nbconvert_exporter": "python",
   "pygments_lexer": "ipython3",
   "version": "3.7.3"
  },
  "toc": {
   "base_numbering": 1,
   "nav_menu": {},
   "number_sections": true,
   "sideBar": true,
   "skip_h1_title": false,
   "title_cell": "Table of Contents",
   "title_sidebar": "Contents",
   "toc_cell": false,
   "toc_position": {},
   "toc_section_display": true,
   "toc_window_display": false
  },
  "varInspector": {
   "cols": {
    "lenName": 16,
    "lenType": 16,
    "lenVar": 40
   },
   "kernels_config": {
    "python": {
     "delete_cmd_postfix": "",
     "delete_cmd_prefix": "del ",
     "library": "var_list.py",
     "varRefreshCmd": "print(var_dic_list())"
    },
    "r": {
     "delete_cmd_postfix": ") ",
     "delete_cmd_prefix": "rm(",
     "library": "var_list.r",
     "varRefreshCmd": "cat(var_dic_list()) "
    }
   },
   "types_to_exclude": [
    "module",
    "function",
    "builtin_function_or_method",
    "instance",
    "_Feature"
   ],
   "window_display": false
  }
 },
 "nbformat": 4,
 "nbformat_minor": 2
}
