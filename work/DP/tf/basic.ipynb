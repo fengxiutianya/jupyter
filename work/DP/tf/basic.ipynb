{
 "cells": [
  {
   "cell_type": "markdown",
   "metadata": {},
   "source": [
    "###   构建图\n",
    "构建图的第一步, 是创建源 op (source op). 源 op 不需要任何输入, 例如 常量 (Constant). 源 op 的输出被传递给其它 op 做运算.\n",
    "\n",
    "Python 库中, op 构造器的返回值代表被构造出的 op 的输出, 这些返回值可以传递给其它 op 构造器作为输入.\n",
    "\n",
    "TensorFlow Python 库有一个默认图 (default graph), op 构造器可以为其增加节点. 这个默认图对 许多程序来说已经足够用了. 阅读 Graph 类 文档 来了解如何管理多个图."
   ]
  },
  {
   "cell_type": "code",
   "execution_count": 1,
   "metadata": {
    "ExecuteTime": {
     "end_time": "2019-06-01T03:54:46.660387Z",
     "start_time": "2019-06-01T03:54:42.592540Z"
    }
   },
   "outputs": [],
   "source": [
    "import tensorflow as tf\n",
    "# 差UN宫颈癌你一个常量op，产生一个1x2矩阵，这个op被作为一个节点\n",
    "# 加到默认图中\n",
    "# \n",
    "# 构造器的放回值代表改常量op的返回值\n",
    "martrix1 = tf.constant([[3.,3.]])\n",
    "\n",
    "# 差UN宫颈癌你另外一个常量op，产生一个2x1的矩阵\n",
    "martrix2 = tf.constant([[2.],[2.]])\n",
    "\n",
    "# 创建一个矩阵乘法matmul op，吧matrix1和matrix2作为输入\n",
    "# 返回值product代表矩阵乘法的结果\n",
    "\n",
    "product = tf.matmul(martrix1,martrix2)\n",
    "# 默认图现在又三个节点，俩个constant() op,和一个matmul() op。\n",
    "# 为了真正进行矩阵相乘运算，并得到矩阵乘法的结果，必须在绘画里启动这个图\n"
   ]
  },
  {
   "cell_type": "markdown",
   "metadata": {},
   "source": [
    "### 在一个会话中启动图\n",
    "构建阶段完成后，才能启动图。启动图的第一步就是创建一个Session对象。如果五任何穿件参数，会话构造器将启动默认图"
   ]
  },
  {
   "cell_type": "code",
   "execution_count": 5,
   "metadata": {
    "ExecuteTime": {
     "end_time": "2019-06-01T04:00:43.451697Z",
     "start_time": "2019-06-01T04:00:43.439872Z"
    }
   },
   "outputs": [
    {
     "name": "stdout",
     "output_type": "stream",
     "text": [
      "[[12.]]\n"
     ]
    }
   ],
   "source": [
    "# 启动默认图\n",
    "sess = tf.Session()\n",
    "\n",
    "# 调用sess的run方法来执行矩阵乘法op，传入product作为该方法的参数\n",
    "# 上面提到，product代表了矩阵乘法op的输出，传入它是向方法表明，我们希望\n",
    "#  取回矩阵乘法op的输出\n",
    "\n",
    "# 整个执行过程是自动化的，会话负责传递op所需要的全部输入，op通常是并发执行的\n",
    "\n",
    "# 函数调用run(product),触发了图中三个op的执行\n",
    "# 返回值result，是一个numpy 的ndarray对象\n",
    "result = sess.run(product)\n",
    "print(result)\n",
    "\n",
    "# 任务完成，关闭会话\n",
    "sess.close()"
   ]
  },
  {
   "cell_type": "markdown",
   "metadata": {},
   "source": [
    "### 交互式使用\n",
    "为了便于诸如Ipython之类的python交互环境，可以使用InteractiveSession代替Session类，使用tensor.eval()\n",
    "和operation.run() 方法代替Session.run（）。这样可以避免使用一个变量来持有会话\n"
   ]
  },
  {
   "cell_type": "code",
   "execution_count": 9,
   "metadata": {
    "ExecuteTime": {
     "end_time": "2019-06-01T04:07:38.349811Z",
     "start_time": "2019-06-01T04:07:38.325146Z"
    }
   },
   "outputs": [
    {
     "name": "stdout",
     "output_type": "stream",
     "text": [
      "[-2. -1.]\n"
     ]
    }
   ],
   "source": [
    "sess1 = tf.InteractiveSession()\n",
    "\n",
    "x = tf.Variable([1.0,2.0])\n",
    "a = tf.constant([3.0,3.0])\n",
    "\n",
    "# 使用初始化器initializer op的的run方法初始化x\n",
    "x.initializer.run()\n",
    "\n",
    "# 增加一个减法sub op，从x减去a，运行减法op，输出结果\n",
    "sub = tf.subtract(x,a)\n",
    "print(sub.eval())\n",
    "sess1.close()"
   ]
  },
  {
   "cell_type": "code",
   "execution_count": 11,
   "metadata": {
    "ExecuteTime": {
     "end_time": "2019-06-01T04:15:57.577752Z",
     "start_time": "2019-06-01T04:15:57.538951Z"
    }
   },
   "outputs": [
    {
     "name": "stdout",
     "output_type": "stream",
     "text": [
      "0\n",
      "1\n",
      "2\n",
      "3\n"
     ]
    }
   ],
   "source": [
    "# 创建一个变量，初始为标量0\n",
    "state= tf.Variable(0,name=\"counter\")\n",
    "\n",
    "# 创建一个op，起作用是是state增加1\n",
    "one = tf.constant(1)\n",
    "new_value= tf.add(state,one)\n",
    "update = tf.assign(state,new_value)\n",
    "\n",
    "# 启动图后，变量必须先经过初始化init op初始化\n",
    "# 首先必须增加一个初始化op到图中\n",
    "init_op = tf.global_variables_initializer()\n",
    "\n",
    "# 启动图，运行op\n",
    "with tf.Session() as sess:\n",
    "#     运行init op\n",
    "    sess.run(init_op)\n",
    "#     打印state的初始值\n",
    "    print(sess.run(state))\n",
    "#     运行op，更新state，并打印state\n",
    "    for _ in range(3):\n",
    "        sess.run(update)\n",
    "        print(sess.run(state))"
   ]
  },
  {
   "cell_type": "code",
   "execution_count": null,
   "metadata": {},
   "outputs": [],
   "source": []
  }
 ],
 "metadata": {
  "kernelspec": {
   "display_name": "Python 3",
   "language": "python",
   "name": "python3"
  },
  "language_info": {
   "codemirror_mode": {
    "name": "ipython",
    "version": 3
   },
   "file_extension": ".py",
   "mimetype": "text/x-python",
   "name": "python",
   "nbconvert_exporter": "python",
   "pygments_lexer": "ipython3",
   "version": "3.7.3"
  },
  "toc": {
   "base_numbering": 1,
   "nav_menu": {},
   "number_sections": true,
   "sideBar": true,
   "skip_h1_title": false,
   "title_cell": "Table of Contents",
   "title_sidebar": "Contents",
   "toc_cell": false,
   "toc_position": {},
   "toc_section_display": true,
   "toc_window_display": false
  },
  "varInspector": {
   "cols": {
    "lenName": 16,
    "lenType": 16,
    "lenVar": 40
   },
   "kernels_config": {
    "python": {
     "delete_cmd_postfix": "",
     "delete_cmd_prefix": "del ",
     "library": "var_list.py",
     "varRefreshCmd": "print(var_dic_list())"
    },
    "r": {
     "delete_cmd_postfix": ") ",
     "delete_cmd_prefix": "rm(",
     "library": "var_list.r",
     "varRefreshCmd": "cat(var_dic_list()) "
    }
   },
   "types_to_exclude": [
    "module",
    "function",
    "builtin_function_or_method",
    "instance",
    "_Feature"
   ],
   "window_display": false
  }
 },
 "nbformat": 4,
 "nbformat_minor": 2
}
