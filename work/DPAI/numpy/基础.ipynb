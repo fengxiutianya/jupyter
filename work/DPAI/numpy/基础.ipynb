{
 "cells": [
  {
   "cell_type": "code",
   "execution_count": 1,
   "metadata": {},
   "outputs": [
    {
     "data": {
      "text/plain": [
       "array([[1., 0., 0., 0.],\n",
       "       [0., 1., 0., 0.],\n",
       "       [0., 0., 1., 0.],\n",
       "       [0., 0., 0., 1.]])"
      ]
     },
     "execution_count": 1,
     "metadata": {},
     "output_type": "execute_result"
    }
   ],
   "source": [
    "import numpy as np\n",
    "# 生成对角矩阵\n",
    "np.eye(4)"
   ]
  },
  {
   "cell_type": "markdown",
   "metadata": {},
   "source": [
    "NumPy 最重要的一个特点是其N维数组对象ndarray，它是一系列同类型数据的集合，以0下标为开始进行集合中元素的索引。\n",
    "\n",
    "ndarray 对象是用于存放同类型元素的多维数组。\n",
    "ndarray 中的每个元素在内存中都有相同存储大小的区域。\n",
    "\n",
    "ndarray 内部由以下内容组成：\n",
    "\n",
    "* 一个指向数据（内存或内存映射文件中的一块数据）的指针。\n",
    "\n",
    "* 数据类型或dtype，描述在数组中的固定大小值的格子。\n",
    "\n",
    "* 一个表示数组形状（shape）的元组，表示各维度大小的元组。\n",
    "\n",
    "* 一个跨度元组（stride），其中的整数指的是为了前进到当前维度下一个元素需要\"跨过\"的字节数。\n",
    "\n",
    "ndarray的内部数据结构：\n",
    "![](http://www.runoob.com/wp-content/uploads/2018/10/ndarray.png)\n",
    "\n",
    "跨度可以是负数，这样会使数组在内存中后移动，切片中obj[::-1]或obj[:,::-1]就是如此\n",
    "\n",
    "创建一个 ndarray 只需调用 NumPy 的 array 函数即可：\n",
    "```\n",
    "numpy.array(object, dtype = None, copy = True, order = None, subok = False, ndmin = 0)\n",
    "```\n",
    "参数说明：\n",
    "- object 数组或者嵌套的数列\n",
    "- dtype  数组元素的数据类型，可选\n",
    "- copy   对象是否需要复制，可选\n",
    "- order  创建数组的样式，C为行方向，F为列方向，A为任意方向，（默认）\n",
    "- subok  默认返回一个与基类类型一致的数组\n",
    "- ndmin  指定申城数组的最小维度   "
   ]
  },
  {
   "cell_type": "code",
   "execution_count": 2,
   "metadata": {},
   "outputs": [
    {
     "name": "stdout",
     "output_type": "stream",
     "text": [
      "[1 2 3 4]\n"
     ]
    }
   ],
   "source": [
    "a = np.array([1,2,3,4])\n",
    "print(a)"
   ]
  },
  {
   "cell_type": "code",
   "execution_count": 3,
   "metadata": {},
   "outputs": [
    {
     "name": "stdout",
     "output_type": "stream",
     "text": [
      "[[1 2]\n",
      " [3 4]]\n"
     ]
    }
   ],
   "source": [
    "## 多一个维度\n",
    "a = np.array([[1,2],[3,4]])\n",
    "print(a)"
   ]
  },
  {
   "cell_type": "code",
   "execution_count": 4,
   "metadata": {},
   "outputs": [
    {
     "name": "stdout",
     "output_type": "stream",
     "text": [
      "[[1 2 3 4 5]]\n"
     ]
    }
   ],
   "source": [
    "# 最小维度\n",
    "a  = np.array([1,2,3,4,5],ndmin=2)\n",
    "print(a)"
   ]
  },
  {
   "cell_type": "code",
   "execution_count": 5,
   "metadata": {},
   "outputs": [
    {
     "name": "stdout",
     "output_type": "stream",
     "text": [
      "[1 2 3 4]\n",
      "12\n"
     ]
    }
   ],
   "source": [
    "# DTYPE 参数\n",
    "a = np.array([1,2,3,4],dtype=int)\n",
    "print(a)\n",
    "print(12)"
   ]
  },
  {
   "cell_type": "markdown",
   "metadata": {},
   "source": [
    "## Numpy数组属性"
   ]
  },
  {
   "cell_type": "code",
   "execution_count": 6,
   "metadata": {},
   "outputs": [
    {
     "name": "stdout",
     "output_type": "stream",
     "text": [
      "1\n",
      "[ 0  1  2  3  4  5  6  7  8  9 10 11 12 13 14 15 16 17 18 19 20 21 22 23]\n",
      "3\n",
      "[[[ 0  1  2]\n",
      "  [ 3  4  5]\n",
      "  [ 6  7  8]\n",
      "  [ 9 10 11]]\n",
      "\n",
      " [[12 13 14]\n",
      "  [15 16 17]\n",
      "  [18 19 20]\n",
      "  [21 22 23]]]\n"
     ]
    }
   ],
   "source": [
    "# ndarray.ndim 秩，即轴的数量或维度的数量\n",
    "\n",
    "a = np.arange(24)\n",
    "print(a.ndim) # a现在|只有一个维度\n",
    "print(a)\n",
    "# 调整维度\n",
    "b =a.reshape(2,4,3)\n",
    "print(b.ndim)\n",
    "print(b)"
   ]
  },
  {
   "cell_type": "code",
   "execution_count": 7,
   "metadata": {},
   "outputs": [
    {
     "name": "stdout",
     "output_type": "stream",
     "text": [
      "(2, 3)\n",
      "[[1 2]\n",
      " [3 4]\n",
      " [5 6]]\n"
     ]
    }
   ],
   "source": [
    "# ndarray.shape\n",
    "# 表示数组的维度，返回一个元祖，这个元祖的长度就是维度的数据，即ndim属性。比如，一个二维数组，\n",
    "# 其维度表示行数和列数\n",
    "a = np.array([[1,2,3],[4,5,6]])\n",
    "print(a.shape)\n",
    "\n",
    "# 使用shape调整数组大小\n",
    "a.shape = (3,2)\n",
    "print(a)"
   ]
  },
  {
   "cell_type": "code",
   "execution_count": 8,
   "metadata": {},
   "outputs": [
    {
     "name": "stdout",
     "output_type": "stream",
     "text": [
      "1\n",
      "8\n"
     ]
    }
   ],
   "source": [
    "# ndarray.itemsize 以字节的形式返回数组中每一个元素的大小\n",
    "\n",
    "x = np.array([1,2,3,4,5],dtype=np.int8)\n",
    "print(x.itemsize)\n",
    "\n",
    "y = np.array([1,2,3,4,5],dtype=np.float64)\n",
    "print(y.itemsize)"
   ]
  },
  {
   "cell_type": "markdown",
   "metadata": {},
   "source": [
    "## 创建数组"
   ]
  },
  {
   "cell_type": "code",
   "execution_count": 9,
   "metadata": {},
   "outputs": [
    {
     "name": "stdout",
     "output_type": "stream",
     "text": [
      "[[0 0]\n",
      " [0 0]\n",
      " [0 0]]\n",
      "[0. 0. 0. 0. 0.]\n",
      "[1. 1. 1. 1. 1.]\n",
      "[1 2 3]\n",
      "[1 2 3]\n",
      "[0 1 2 3 4]\n",
      "[0. 1. 2. 3. 4.]\n",
      "[10 12 14 16 18]\n"
     ]
    }
   ],
   "source": [
    "# 1. numpu.empty()\n",
    "# 创建一个制定形状shape，数据类型切未初始化的数组\n",
    "#  numpy.empty(shape, dtype = float, order = 'C')\n",
    "\n",
    "c = np.empty([3,2],dtype=int)\n",
    "print(c)\n",
    "\n",
    "# np.zeros\n",
    "# 创建制定大小的数组，数组元素以0来填充\n",
    "x= np.zeros(5)\n",
    "print(x)\n",
    "\n",
    "\n",
    "# numpy.ones\n",
    "# 创建指定形状的数组，数组元素以 1 来填充：\n",
    "\n",
    "x= np.ones(5)\n",
    "print(x)\n",
    "\n",
    "## 从已有的数组中穿件数组\n",
    "x = [1,2,3]\n",
    "a = np.asarray(x)\n",
    "print(a)\n",
    "\n",
    "x = (1,2,3)\n",
    "a  = np.asarray(x)\n",
    "print(a)\n",
    "\n",
    "# 从数值范围创建数组\n",
    "# numpy.arange(start, stop, step, dtype)\n",
    "x = np.arange(5)\n",
    "print(x)\n",
    "\n",
    "x = np.arange(5,dtype=float)\n",
    "print(x)\n",
    "\n",
    "x = np.arange(10,20,2)\n",
    "print(x)\n"
   ]
  },
  {
   "cell_type": "markdown",
   "metadata": {},
   "source": [
    "## 切片"
   ]
  },
  {
   "cell_type": "code",
   "execution_count": 10,
   "metadata": {},
   "outputs": [
    {
     "name": "stdout",
     "output_type": "stream",
     "text": [
      "[[1 2 3]\n",
      " [3 4 5]\n",
      " [4 5 6]]\n",
      "从数组索引 a[1:] 处开始切割\n",
      "[[3 4 5]\n",
      " [4 5 6]]\n",
      "[[1 2 3]\n",
      " [3 4 5]\n",
      " [4 5 6]]\n",
      "\n",
      "[2 4 5]\n",
      "[3 4 5]\n",
      "[[2 3]\n",
      " [4 5]\n",
      " [5 6]]\n",
      "[[3 4 5]\n",
      " [4 5 6]]\n"
     ]
    }
   ],
   "source": [
    "a = np.array([[1,2,3],[3,4,5],[4,5,6]])\n",
    "print(a)\n",
    "# 从某个索引处开始切割\n",
    "print('从数组索引 a[1:] 处开始切割')\n",
    "print(a[1:])\n",
    "\n",
    "# 切片还可以包括省略号 …，来使选择元组的长度与数组的维度相同。 如果在行位置使用省略号，它将返回包含行中元素的 ndarray。\n",
    "a = np.array([[1,2,3],[3,4,5],[4,5,6]])  \n",
    "print(a)\n",
    "print()\n",
    "print(a[...,1]) # 打印第二列元素\n",
    "print(a[1,...]) # 打印第二行元素\n",
    "print(a[...,1:]) # 打印第二列及以后元素\n",
    "print(a[1:,...]) # 打印第二行及以后元素"
   ]
  },
  {
   "cell_type": "code",
   "execution_count": 14,
   "metadata": {},
   "outputs": [
    {
     "name": "stdout",
     "output_type": "stream",
     "text": [
      "[1 4 3]\n",
      "我们的数组是：\n",
      "[[ 0  1  2]\n",
      " [ 3  4  5]\n",
      " [ 6  7  8]\n",
      " [ 9 10 11]]\n",
      "\n",
      "\n",
      "这个数组的四个角元素是：\n",
      "[[ 0  2]\n",
      " [ 9 11]]\n"
     ]
    }
   ],
   "source": [
    "# 整数数组索引\n",
    "x = np.array([[1,  2],  [3,  4],  [5,  6]]) \n",
    "## 获取数组中 [0,0],(1,1),(2,0)处的位置元素\n",
    "y = x[[0,1,1],[0,1,0]]\n",
    "print(y)\n",
    "# 获取4x3四个角的元素\n",
    "x = np.array([[  0,  1,  2],[  3,  4,  5],[  6,  7,  8],[  9,  10,  11]])  \n",
    "print ('我们的数组是：' )\n",
    "print (x)\n",
    "print ('\\n')\n",
    "rows = np.array([[0,0],[3,3]])\n",
    "cols = np.array([[0,2],[0,2]])\n",
    "y = x[rows,cols]\n",
    "print  ('这个数组的四个角元素是：')\n",
    "print (y)"
   ]
  },
  {
   "cell_type": "code",
   "execution_count": 16,
   "metadata": {},
   "outputs": [
    {
     "name": "stdout",
     "output_type": "stream",
     "text": [
      "[[1 2 3]\n",
      " [4 5 6]\n",
      " [7 8 9]]\n",
      "[[5 6]\n",
      " [8 9]]\n",
      "[[5 6]\n",
      " [8 9]]\n",
      "[[2 3]\n",
      " [5 6]\n",
      " [8 9]]\n"
     ]
    }
   ],
   "source": [
    "a = np.array([[1,2,3], [4,5,6],[7,8,9]])\n",
    "print(a)\n",
    "b = a[1:3, 1:3]\n",
    "c = a[1:3,[1,2]]\n",
    "d = a[...,1:]\n",
    "print(b)\n",
    "print(c)\n",
    "print(d)"
   ]
  },
  {
   "cell_type": "code",
   "execution_count": 18,
   "metadata": {},
   "outputs": [
    {
     "name": "stdout",
     "output_type": "stream",
     "text": [
      "我们的数组是：\n",
      "[[ 0  1  2]\n",
      " [ 3  4  5]\n",
      " [ 6  7  8]\n",
      " [ 9 10 11]]\n",
      "\n",
      "\n",
      "大于5的元素是：\n",
      "[ 6  7  8  9 10 11]\n"
     ]
    }
   ],
   "source": [
    "x = np.array([[  0,  1,  2],[  3,  4,  5],[  6,  7,  8],[  9,  10,  11]])  \n",
    "print ('我们的数组是：')\n",
    "print (x)\n",
    "print ('\\n')\n",
    "# 打印大于5的元素\n",
    "print(\"大于5的元素是：\")\n",
    "print(x[x>5])"
   ]
  },
  {
   "cell_type": "markdown",
   "metadata": {},
   "source": [
    "## 广播 Boardcast\n",
    "\n",
    "广播(Broadcast)是 numpy 对不同形状(shape)的数组进行数值计算的方式， 对数组的算术运算通常在相应的元素上进行。\n",
    "\n",
    "如果两个数组 a 和 b 形状相同，即满足 a.shape == b.shape，那么 a*b 的结果就是 a 与 b 数组对应位相乘。这要求维数相同，且各维度的长度相同。"
   ]
  },
  {
   "cell_type": "code",
   "execution_count": 19,
   "metadata": {},
   "outputs": [
    {
     "name": "stdout",
     "output_type": "stream",
     "text": [
      "[ 10  40  90 160]\n"
     ]
    }
   ],
   "source": [
    "a = np.array([1,2,3,4])\n",
    "b = np.array([10,20,30,40])\n",
    "c = a*b\n",
    "print(c)"
   ]
  },
  {
   "cell_type": "code",
   "execution_count": 21,
   "metadata": {},
   "outputs": [
    {
     "name": "stdout",
     "output_type": "stream",
     "text": [
      "[[ 0  0  0]\n",
      " [10 20 30]\n",
      " [20 40 60]\n",
      " [30 60 90]]\n"
     ]
    }
   ],
   "source": [
    "# 当运算中的 2 个数组的形状不同时，numpy 将自动触发广播机制。如：\n",
    "a = np.array([\n",
    "     [0,0,0],\n",
    "     [10,10,10],\n",
    "     [20,20,20],\n",
    "     [30,30,30]\n",
    " ])\n",
    "b = np.array([1,2,3])\n",
    "c = a * b\n",
    "print(c)"
   ]
  },
  {
   "cell_type": "markdown",
   "metadata": {},
   "source": [
    "下面的图片展示了数组 b 如何通过广播来与数组 a 兼容。\n",
    "![](http://www.runoob.com/wp-content/uploads/2018/10/image0020619.gif)"
   ]
  },
  {
   "cell_type": "code",
   "execution_count": 23,
   "metadata": {},
   "outputs": [
    {
     "name": "stdout",
     "output_type": "stream",
     "text": [
      "[[1 2 3]\n",
      " [1 2 3]\n",
      " [1 2 3]\n",
      " [1 2 3]]\n",
      "[[ 1  2  3]\n",
      " [11 12 13]\n",
      " [21 22 23]\n",
      " [31 32 33]]\n",
      "[[ 1  2  3]\n",
      " [11 12 13]\n",
      " [21 22 23]\n",
      " [31 32 33]]\n"
     ]
    }
   ],
   "source": [
    "# 4x3 的二维数组与长为 3 的一维数组相加，等效于把数组 b 在二维上重复 4 次再运算：\n",
    "a = np.array([[ 0, 0, 0],\n",
    "           [10,10,10],\n",
    "           [20,20,20],\n",
    "           [30,30,30]])\n",
    "b = np.array([1,2,3])\n",
    "bb = np.tile(b,(4,1))\n",
    "print(bb)\n",
    "## 上下俩个相等\n",
    "print(a+bb)\n",
    "print(a+b)"
   ]
  },
  {
   "cell_type": "markdown",
   "metadata": {},
   "source": [
    "## 迭代数组\n"
   ]
  },
  {
   "cell_type": "markdown",
   "metadata": {},
   "source": [
    "NumPy 迭代器对象 numpy.nditer 提供了一种灵活访问一个或者多个数组元素的方式。\n",
    "\n",
    "迭代器最基本的任务的可以完成对数组元素的访问。\n",
    "\n",
    "接下来我们使用 arange() 函数创建一个 2X3 数组，并使用 nditer 对它进行迭代。"
   ]
  },
  {
   "cell_type": "code",
   "execution_count": 25,
   "metadata": {},
   "outputs": [
    {
     "name": "stdout",
     "output_type": "stream",
     "text": [
      "原始数组是：\n",
      "[[0 1 2]\n",
      " [3 4 5]]\n",
      "\n",
      "\n",
      "迭代输出元素：\n",
      "0,1,2,3,4,5,\n",
      "\n"
     ]
    }
   ],
   "source": [
    "a = np.arange(6).reshape(2,3)\n",
    "print(\"原始数组是：\")\n",
    "print(a)\n",
    "print(\"\\n\")\n",
    "print(\"迭代输出元素：\")\n",
    "for x in np.nditer(a):\n",
    "    print(x,end=\",\")\n",
    "print(\"\\n\")\n"
   ]
  },
  {
   "cell_type": "code",
   "execution_count": 28,
   "metadata": {},
   "outputs": [
    {
     "name": "stdout",
     "output_type": "stream",
     "text": [
      "0, 1, 2, 3, 4, 5, \n",
      "\n",
      "0, 3, 1, 4, 2, 5, \n",
      "\n"
     ]
    }
   ],
   "source": [
    "for x in np.nditer(a.T):\n",
    "    print(x,end=\", \")\n",
    "print(\"\\n\")\n",
    "\n",
    "for x in np.nditer(a.T.copy(order=\"C\")):\n",
    "    print(x,end=\", \")\n",
    "print(\"\\n\")"
   ]
  },
  {
   "cell_type": "markdown",
   "metadata": {},
   "source": [
    "### 修改数组形状"
   ]
  },
  {
   "cell_type": "markdown",
   "metadata": {},
   "source": [
    "### reshape 不改变数据的情况下修改形状\n",
    "numpy.reshape 函数可以在不改变数据的条件下修改形状，格式如下： numpy.reshape(arr, newshape, order='C')\n",
    "* arr：要修改形状的数组\n",
    "* newshape：整数或者整数数组，新的形状应当兼容原有形状\n",
    "* order：'C' -- 按行，'F' -- 按列，'A' -- 原顺序，'k' -- 元素在内存中的出现顺序。"
   ]
  },
  {
   "cell_type": "code",
   "execution_count": 29,
   "metadata": {},
   "outputs": [
    {
     "name": "stdout",
     "output_type": "stream",
     "text": [
      "原始数组：\n",
      "[0 1 2 3 4 5 6 7]\n",
      "\n",
      "\n",
      "[[0 1]\n",
      " [2 3]\n",
      " [4 5]\n",
      " [6 7]]\n"
     ]
    }
   ],
   "source": [
    "a = np.arange(8)\n",
    "print ('原始数组：')\n",
    "print (a)\n",
    "print ('\\n')\n",
    "\n",
    "b = a.reshape(4,2)\n",
    "print(b)"
   ]
  },
  {
   "cell_type": "code",
   "execution_count": 31,
   "metadata": {},
   "outputs": [
    {
     "name": "stdout",
     "output_type": "stream",
     "text": [
      "元是数组\n",
      "[0 1 2]\n",
      "[3 4 5]\n",
      "[6 7 8]\n",
      "0\n",
      "1\n",
      "2\n",
      "3\n",
      "4\n",
      "5\n",
      "6\n",
      "7\n",
      "8\n"
     ]
    }
   ],
   "source": [
    "# numpy.ndarray.flat 是一个数组元素迭代器，实例如下:\n",
    "a = np.arange(9).reshape(3,3)\n",
    "print(\"元是数组\")\n",
    "for row in a:\n",
    "    print(row)\n",
    "\n",
    "## 对数组中每个元素都进行处理，可以使用flat属性，该属性是一个数组元素迭代器\n",
    "for element in a .flat:\n",
    "    print(element)"
   ]
  },
  {
   "cell_type": "code",
   "execution_count": 33,
   "metadata": {},
   "outputs": [
    {
     "name": "stdout",
     "output_type": "stream",
     "text": [
      "原数组\n",
      "[[0 1 2 3]\n",
      " [4 5 6 7]]\n",
      "[[0 1 2 3]\n",
      " [4 5 6 7]]\n",
      "展开数的数组：\n",
      "[0 1 2 3 4 5 6 7]\n",
      "\n",
      "\n",
      "以F风格展开\n",
      "[0 4 1 5 2 6 3 7]\n"
     ]
    }
   ],
   "source": [
    "# numpy.ndarray.flatten 返回一份数组拷贝，对拷贝所做的修改不会影响原始数组，格式如下：\n",
    "a = np.arange(8).reshape(2,4)\n",
    "print(\"原数组\")\n",
    "print(a)\n",
    "print(a)\n",
    "\n",
    "print(\"展开数的数组：\")\n",
    "print(a.flatten())\n",
    "print(\"\\n\")\n",
    "\n",
    "print(\"以F风格展开\")\n",
    "print(a.flatten(order='F'))\n",
    "\n",
    "\n"
   ]
  },
  {
   "cell_type": "code",
   "execution_count": 35,
   "metadata": {},
   "outputs": [
    {
     "name": "stdout",
     "output_type": "stream",
     "text": [
      "原数组：\n",
      "[[0 1 2 3]\n",
      " [4 5 6 7]]\n",
      "\n",
      "\n",
      "调用ravel函数之后\n",
      "[0 1 2 3 4 5 6 7]\n",
      "\n",
      "\n",
      "以F风格顺序调用ravel函数之后\n",
      "[0 4 1 5 2 6 3 7]\n",
      "[[0 1 2 3]\n",
      " [4 5 6 7]]\n"
     ]
    }
   ],
   "source": [
    "# numpy.ravel\n",
    "# numpy.ravel() 展平的数组元素，顺序通常是\"C风格\"，返回的是数组视图（view，有点类似 C/C++引用reference的意味），修改会影响原始数组。\n",
    "\n",
    "# 该函数接收两个参数：\n",
    "# numpy.ravel(a, order='C')\n",
    "\n",
    "a = np.arange(8).reshape(2,4)\n",
    "print(\"原数组：\")\n",
    "print(a)\n",
    "print(\"\\n\")\n",
    "\n",
    "print(\"调用ravel函数之后\")\n",
    "print(a.ravel())\n",
    "print(\"\\n\")\n",
    "\n",
    "print(\"以F风格顺序调用ravel函数之后\")\n",
    "print(a.ravel(order='F'))\n"
   ]
  },
  {
   "cell_type": "code",
   "execution_count": 38,
   "metadata": {},
   "outputs": [
    {
     "name": "stdout",
     "output_type": "stream",
     "text": [
      "<numpy.broadcast object at 0x7faa9e94f8c0>\n",
      "对 y 广播 x：\n",
      "1 4\n",
      "1 5\n",
      "\n",
      "\n"
     ]
    }
   ],
   "source": [
    "## 修改数组维度\n",
    "# numpy.broadcast 用于模仿广播的对象，它返回一个对象，该对象封装了将一个数组广播到另一个数组的结果。\n",
    "\n",
    "# 该函数使用两个数组作为输入参数，如下实例：\n",
    "x = np.array([[1],[2],[3]])\n",
    "y = np.array([4,5,6])\n",
    "\n",
    "# 对 y 广播 x\n",
    "b = np.broadcast(x,y)  \n",
    "\n",
    "# 它拥有 iterator 属性，基于自身组件的迭代器元组 \n",
    "print ('对 y 广播 x：')\n",
    "r,c = b.iters\n",
    " \n",
    "# Python3.x 为 next(context) ，Python2.x 为 context.next()\n",
    "print (next(r), next(c))\n",
    "print (next(r), next(c))\n",
    "print ('\\n')\n",
    "# shape 属性返回广播对象的形状"
   ]
  },
  {
   "cell_type": "code",
   "execution_count": null,
   "metadata": {},
   "outputs": [],
   "source": []
  }
 ],
 "metadata": {
  "kernelspec": {
   "display_name": "Python 3",
   "language": "python",
   "name": "python3"
  },
  "language_info": {
   "codemirror_mode": {
    "name": "ipython",
    "version": 3
   },
   "file_extension": ".py",
   "mimetype": "text/x-python",
   "name": "python",
   "nbconvert_exporter": "python",
   "pygments_lexer": "ipython3",
   "version": "3.7.2"
  }
 },
 "nbformat": 4,
 "nbformat_minor": 2
}
