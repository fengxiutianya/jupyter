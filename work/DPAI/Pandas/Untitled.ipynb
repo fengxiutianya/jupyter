{
 "cells": [
  {
   "cell_type": "code",
   "execution_count": 4,
   "metadata": {
    "ExecuteTime": {
     "end_time": "2019-05-08T12:25:57.612576Z",
     "start_time": "2019-05-08T12:25:56.861184Z"
    },
    "pycharm": {
     "is_executing": false
    }
   },
   "outputs": [],
   "source": [
    "import pandas as pd \n",
    "import numpy as np\n",
    "import matplotlib.pyplot as plt\n"
   ]
  },
  {
   "cell_type": "code",
   "execution_count": 2,
   "metadata": {
    "ExecuteTime": {
     "end_time": "2019-05-08T12:51:06.541005Z",
     "start_time": "2019-05-08T12:51:06.532135Z"
    },
    "pycharm": {
     "is_executing": false
    }
   },
   "outputs": [
    {
     "name": "stdout",
     "text": [
      "0    1.0\n1    3.0\n2    5.0\n3    NaN\n4    6.0\n5    8.0\ndtype: float64\n"
     ],
     "output_type": "stream"
    }
   ],
   "source": [
    "# 对象创建\n",
    "s = pd.Series([1,3,5,np.nan,6,8])\n",
    "print(s)\n"
   ]
  },
  {
   "cell_type": "code",
   "execution_count": 5,
   "metadata": {
    "ExecuteTime": {
     "end_time": "2019-05-08T13:07:28.479359Z",
     "start_time": "2019-05-08T13:07:28.395272Z"
    },
    "pycharm": {
     "is_executing": false
    }
   },
   "outputs": [
    {
     "name": "stdout",
     "text": [
      "DatetimeIndex(['2017-01-01', '2017-01-02', '2017-01-03', '2017-01-04',\n               '2017-01-05', '2017-01-06', '2017-01-07'],\n              dtype='datetime64[ns]', freq='D')\n_ __ __ __ __ __ __ __ __ __ __ __ __ __ __ __ _\n                   A         B         C         D\n2017-01-01  0.873894 -0.340624  2.698741 -2.798397\n2017-01-02 -0.617607 -1.079146 -0.819147  1.269044\n2017-01-03 -0.898173  0.863877  1.266088  1.028844\n2017-01-04 -0.014835 -1.486458 -0.820553  0.695204\n2017-01-05 -1.468798  0.291051 -0.133120  0.023916\n2017-01-06  2.814643  0.770974 -1.218046 -0.806589\n2017-01-07 -0.694843 -0.366123 -1.054362 -0.202151\n     A          B    C  D      E    F\n0  1.0 2017-01-02  1.0  3   test  foo\n1  1.0 2017-01-02  1.0  3  train  foo\n2  1.0 2017-01-02  1.0  3   test  foo\n3  1.0 2017-01-02  1.0  3  train  foo\n_ __ __ __ __ __ __ __ __ __ __ __ __ __ __ __ _\n                   A         B         C         D\n2017-01-01  0.873894 -0.340624  2.698741 -2.798397\n2017-01-02 -0.617607 -1.079146 -0.819147  1.269044\n2017-01-03 -0.898173  0.863877  1.266088  1.028844\n_ __ __ __ __ __ __ __ __ __ __ __ __ __ __ __ _\n                   A         B         C         D\n2017-01-05 -1.468798  0.291051 -0.133120  0.023916\n2017-01-06  2.814643  0.770974 -1.218046 -0.806589\n2017-01-07 -0.694843 -0.366123 -1.054362 -0.202151\nindex is : DatetimeIndex(['2017-01-01', '2017-01-02', '2017-01-03', '2017-01-04',\n               '2017-01-05', '2017-01-06', '2017-01-07'],\n              dtype='datetime64[ns]', freq='D')\ncolumns is :  Index(['A', 'B', 'C', 'D'], dtype='object')\nvalue is :  [[ 0.87389436 -0.34062391  2.69874111 -2.79839662]\n [-0.61760747 -1.07914619 -0.81914712  1.26904399]\n [-0.8981733   0.86387656  1.26608755  1.02884387]\n [-0.01483523 -1.48645785 -0.82055319  0.69520356]\n [-1.4687982   0.29105118 -0.13311987  0.02391572]\n [ 2.81464297  0.77097382 -1.21804646 -0.80658901]\n [-0.694843   -0.36612254 -1.05436177 -0.20215094]]\n              A         B         C         D\ncount  7.000000  7.000000  7.000000  7.000000\nmean  -0.000817 -0.192350 -0.011486 -0.112876\nstd    1.444210  0.893550  1.463022  1.389614\nmin   -1.468798 -1.486458 -1.218046 -2.798397\n25%   -0.796508 -0.722634 -0.937457 -0.504370\n50%   -0.617607 -0.340624 -0.819147  0.023916\n75%    0.429530  0.531013  0.566484  0.862024\nmax    2.814643  0.863877  2.698741  1.269044\n"
     ],
     "output_type": "stream"
    }
   ],
   "source": [
    "dates = pd.date_range('20170101',periods=7)\n",
    "print(dates)\n",
    "\n",
    "print(\"_ _\"*16)\n",
    "\n",
    "# 第一个参数是数据，第二个参数是索引号，第三个参数是列名\n",
    "df = pd.DataFrame(np.random.randn(7,4),index=dates,columns=list('ABCD'))\n",
    "print(df)\n",
    "\n",
    "df2 = pd.DataFrame({\n",
    "    'A':1.,\n",
    "    'B':pd.Timestamp('20170102'),\n",
    "    'C':pd.Series(1,index=list(range(4)),dtype='float32'),\n",
    "    'D':np.array([3]*4,dtype='int32'),\n",
    "    'E':pd.Categorical([\"test\",\"train\",\"test\",\"train\"]),\n",
    "    'F':'foo'\n",
    "})\n",
    "print(df2)\n",
    "print(\"_ _\" * 16)\n",
    "print(df.head(3))\n",
    "print(\"_ _\" * 16)\n",
    "print(df.tail(3))\n",
    "print(\"index is :\" , df.index)\n",
    "print(\"columns is : \" , df.columns)\n",
    "print(\"value is : \",df.values)\n",
    "print(df.describe())\n",
    "\n"
   ]
  },
  {
   "cell_type": "code",
   "execution_count": 5,
   "metadata": {
    "pycharm": {
     "is_executing": false
    }
   },
   "outputs": [],
   "source": []
  }
 ],
 "metadata": {
  "kernelspec": {
   "name": "pycharm-416b674a",
   "language": "python",
   "display_name": "PyCharm (jupyter)"
  },
  "language_info": {
   "codemirror_mode": {
    "name": "ipython",
    "version": 3
   },
   "file_extension": ".py",
   "mimetype": "text/x-python",
   "name": "python",
   "nbconvert_exporter": "python",
   "pygments_lexer": "ipython3",
   "version": "3.7.3"
  },
  "pycharm": {
   "stem_cell": {
    "cell_type": "raw",
    "source": [],
    "metadata": {
     "collapsed": false
    }
   }
  },
  "toc": {
   "base_numbering": 1,
   "nav_menu": {},
   "number_sections": true,
   "sideBar": true,
   "skip_h1_title": false,
   "title_cell": "Table of Contents",
   "title_sidebar": "Contents",
   "toc_cell": false,
   "toc_position": {},
   "toc_section_display": true,
   "toc_window_display": false
  },
  "varInspector": {
   "cols": {
    "lenName": 16,
    "lenType": 16,
    "lenVar": 40
   },
   "kernels_config": {
    "python": {
     "delete_cmd_postfix": "",
     "delete_cmd_prefix": "del ",
     "library": "var_list.py",
     "varRefreshCmd": "print(var_dic_list())"
    },
    "r": {
     "delete_cmd_postfix": ") ",
     "delete_cmd_prefix": "rm(",
     "library": "var_list.r",
     "varRefreshCmd": "cat(var_dic_list()) "
    }
   },
   "types_to_exclude": [
    "module",
    "function",
    "builtin_function_or_method",
    "instance",
    "_Feature"
   ],
   "window_display": false
  }
 },
 "nbformat": 4,
 "nbformat_minor": 2
}