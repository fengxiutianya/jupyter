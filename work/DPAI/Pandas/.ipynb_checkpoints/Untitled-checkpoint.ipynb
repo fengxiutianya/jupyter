{
 "cells": [
  {
   "cell_type": "code",
   "execution_count": 1,
   "metadata": {
    "ExecuteTime": {
     "end_time": "2019-05-08T12:25:57.612576Z",
     "start_time": "2019-05-08T12:25:56.861184Z"
    },
    "pycharm": {
     "is_executing": false
    }
   },
   "outputs": [],
   "source": [
    "import pandas as pd \n",
    "import numpy as np\n",
    "import matplotlib.pyplot as plt\n"
   ]
  },
  {
   "cell_type": "code",
   "execution_count": 3,
   "metadata": {
    "ExecuteTime": {
     "end_time": "2019-05-08T12:51:06.541005Z",
     "start_time": "2019-05-08T12:51:06.532135Z"
    },
    "pycharm": {
     "is_executing": false
    }
   },
   "outputs": [
    {
     "name": "stdout",
     "output_type": "stream",
     "text": [
      "0    1.0\n",
      "1    3.0\n",
      "2    5.0\n",
      "3    NaN\n",
      "4    6.0\n",
      "5    8.0\n",
      "dtype: float64\n"
     ]
    }
   ],
   "source": [
    "# 对象创建\n",
    "s = pd.Series([1,3,5,np.nan,6,8])\n",
    "print(s)\n"
   ]
  },
  {
   "cell_type": "code",
   "execution_count": 22,
   "metadata": {
    "ExecuteTime": {
     "end_time": "2019-05-08T13:07:28.479359Z",
     "start_time": "2019-05-08T13:07:28.395272Z"
    }
   },
   "outputs": [
    {
     "name": "stdout",
     "output_type": "stream",
     "text": [
      "DatetimeIndex(['2017-01-01', '2017-01-02', '2017-01-03', '2017-01-04',\n",
      "               '2017-01-05', '2017-01-06', '2017-01-07'],\n",
      "              dtype='datetime64[ns]', freq='D')\n",
      "_ __ __ __ __ __ __ __ __ __ __ __ __ __ __ __ _\n",
      "                   A         B         C         D\n",
      "2017-01-01 -0.819583 -0.349138 -3.615702  0.593946\n",
      "2017-01-02 -0.152150 -0.765629  0.609465 -0.763985\n",
      "2017-01-03  0.599734 -1.364655 -0.353283  1.219848\n",
      "2017-01-04 -0.684381 -0.729494  1.227283  0.096399\n",
      "2017-01-05 -0.922647  1.591207  0.671841  0.097418\n",
      "2017-01-06  0.577659 -0.960429 -0.751185  0.876214\n",
      "2017-01-07 -0.264466  0.375390 -0.883796 -2.416989\n",
      "     A          B    C  D      E    F\n",
      "0  1.0 2017-01-02  1.0  3   test  foo\n",
      "1  1.0 2017-01-02  1.0  3  train  foo\n",
      "2  1.0 2017-01-02  1.0  3   test  foo\n",
      "3  1.0 2017-01-02  1.0  3  train  foo\n",
      "_ __ __ __ __ __ __ __ __ __ __ __ __ __ __ __ _\n",
      "                   A         B         C         D\n",
      "2017-01-01 -0.819583 -0.349138 -3.615702  0.593946\n",
      "2017-01-02 -0.152150 -0.765629  0.609465 -0.763985\n",
      "2017-01-03  0.599734 -1.364655 -0.353283  1.219848\n",
      "_ __ __ __ __ __ __ __ __ __ __ __ __ __ __ __ _\n",
      "                   A         B         C         D\n",
      "2017-01-05 -0.922647  1.591207  0.671841  0.097418\n",
      "2017-01-06  0.577659 -0.960429 -0.751185  0.876214\n",
      "2017-01-07 -0.264466  0.375390 -0.883796 -2.416989\n",
      "index is : DatetimeIndex(['2017-01-01', '2017-01-02', '2017-01-03', '2017-01-04',\n",
      "               '2017-01-05', '2017-01-06', '2017-01-07'],\n",
      "              dtype='datetime64[ns]', freq='D')\n",
      "columns is :  Index(['A', 'B', 'C', 'D'], dtype='object')\n",
      "value is :  [[-0.81958311 -0.34913803 -3.61570186  0.59394636]\n",
      " [-0.15215043 -0.76562911  0.60946457 -0.76398524]\n",
      " [ 0.5997342  -1.36465496 -0.35328264  1.21984797]\n",
      " [-0.6843807  -0.72949447  1.2272833   0.09639908]\n",
      " [-0.92264652  1.59120728  0.6718406   0.09741814]\n",
      " [ 0.57765898 -0.96042864 -0.75118523  0.87621395]\n",
      " [-0.26446595  0.37538958 -0.88379641 -2.41698909]]\n",
      "              A         B         C         D\n",
      "count  7.000000  7.000000  7.000000  7.000000\n",
      "mean  -0.237976 -0.314678 -0.442197 -0.042450\n",
      "std    0.630001  1.000388  1.607470  1.227479\n",
      "min   -0.922647 -1.364655 -3.615702 -2.416989\n",
      "25%   -0.751982 -0.863029 -0.817491 -0.333793\n",
      "50%   -0.264466 -0.729494 -0.353283  0.097418\n",
      "75%    0.212754  0.013126  0.640653  0.735080\n",
      "max    0.599734  1.591207  1.227283  1.219848\n"
     ]
    }
   ],
   "source": [
    "dates = pd.date_range('20170101',periods=7)\n",
    "print(dates)\n",
    "\n",
    "print(\"_ _\"*16)\n",
    "\n",
    "# 第一个参数是数据，第二个参数是索引号，第三个参数是列名\n",
    "df = pd.DataFrame(np.random.randn(7,4),index=dates,columns=list('ABCD'))\n",
    "print(df)\n",
    "\n",
    "df2 = pd.DataFrame({\n",
    "    'A':1.,\n",
    "    'B':pd.Timestamp('20170102'),\n",
    "    'C':pd.Series(1,index=list(range(4)),dtype='float32'),\n",
    "    'D':np.array([3]*4,dtype='int32'),\n",
    "    'E':pd.Categorical([\"test\",\"train\",\"test\",\"train\"]),\n",
    "    'F':'foo'\n",
    "})\n",
    "print(df2)\n",
    "print(\"_ _\" * 16)\n",
    "print(df.head(3))\n",
    "print(\"_ _\" * 16)\n",
    "print(df.tail(3))\n",
    "print(\"index is :\" , df.index)\n",
    "print(\"columns is : \" , df.columns)\n",
    "print(\"value is : \",df.values)\n",
    "print(df.describe())"
   ]
  },
  {
   "cell_type": "code",
   "execution_count": null,
   "metadata": {},
   "outputs": [],
   "source": []
  }
 ],
 "metadata": {
  "kernelspec": {
   "display_name": "Python 3",
   "language": "python",
   "name": "python3"
  },
  "language_info": {
   "codemirror_mode": {
    "name": "ipython",
    "version": 3
   },
   "file_extension": ".py",
   "mimetype": "text/x-python",
   "name": "python",
   "nbconvert_exporter": "python",
   "pygments_lexer": "ipython3",
   "version": "3.7.3"
  },
  "pycharm": {
   "stem_cell": {
    "cell_type": "raw",
    "metadata": {
     "collapsed": false
    },
    "source": []
   }
  },
  "toc": {
   "base_numbering": 1,
   "nav_menu": {},
   "number_sections": true,
   "sideBar": true,
   "skip_h1_title": false,
   "title_cell": "Table of Contents",
   "title_sidebar": "Contents",
   "toc_cell": false,
   "toc_position": {},
   "toc_section_display": true,
   "toc_window_display": false
  },
  "varInspector": {
   "cols": {
    "lenName": 16,
    "lenType": 16,
    "lenVar": 40
   },
   "kernels_config": {
    "python": {
     "delete_cmd_postfix": "",
     "delete_cmd_prefix": "del ",
     "library": "var_list.py",
     "varRefreshCmd": "print(var_dic_list())"
    },
    "r": {
     "delete_cmd_postfix": ") ",
     "delete_cmd_prefix": "rm(",
     "library": "var_list.r",
     "varRefreshCmd": "cat(var_dic_list()) "
    }
   },
   "types_to_exclude": [
    "module",
    "function",
    "builtin_function_or_method",
    "instance",
    "_Feature"
   ],
   "window_display": false
  }
 },
 "nbformat": 4,
 "nbformat_minor": 2
}
